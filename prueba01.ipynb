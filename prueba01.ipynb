{
  "nbformat": 4,
  "nbformat_minor": 0,
  "metadata": {
    "colab": {
      "name": "prueba01.ipynb",
      "provenance": [],
      "collapsed_sections": [],
      "authorship_tag": "ABX9TyO6evVvSKiySDCi911Tw/9E",
      "include_colab_link": true
    },
    "kernelspec": {
      "name": "python3",
      "display_name": "Python 3"
    },
    "language_info": {
      "name": "python"
    }
  },
  "cells": [
    {
      "cell_type": "markdown",
      "metadata": {
        "id": "view-in-github",
        "colab_type": "text"
      },
      "source": [
        "<a href=\"https://colab.research.google.com/github/anaaragon88/pruebapython/blob/main/prueba01.ipynb\" target=\"_parent\"><img src=\"https://colab.research.google.com/assets/colab-badge.svg\" alt=\"Open In Colab\"/></a>"
      ]
    },
    {
      "cell_type": "code",
      "execution_count": 2,
      "metadata": {
        "colab": {
          "base_uri": "https://localhost:8080/"
        },
        "id": "YqBQ13Hti4_8",
        "outputId": "e46d1541-f91f-4aae-f4b5-f9dff992938d"
      },
      "outputs": [
        {
          "output_type": "stream",
          "name": "stdout",
          "text": [
            "Hola, Mundo!\n"
          ]
        }
      ],
      "source": [
        "print(\"Hola, Mundo!\")"
      ]
    },
    {
      "cell_type": "markdown",
      "source": [
        "#este es un comentario\n",
        "##este es un comentario\n",
        "**este es un comentario**\n",
        "\n",
        "\n",
        "**1. Mostrar por pantalla la suma de dos números**"
      ],
      "metadata": {
        "id": "Bc-6OeKukxXV"
      }
    },
    {
      "cell_type": "code",
      "source": [
        "numero1 = int(input(\"ingrese primer número:\"))"
      ],
      "metadata": {
        "colab": {
          "base_uri": "https://localhost:8080/"
        },
        "id": "ydfKx4JqlLHS",
        "outputId": "7d05e236-5e9b-4fa2-94a9-84eef69c3a13"
      },
      "execution_count": 6,
      "outputs": [
        {
          "name": "stdout",
          "output_type": "stream",
          "text": [
            "ingrese primer número:5\n"
          ]
        }
      ]
    },
    {
      "cell_type": "code",
      "source": [
        "numero2 = int(input(\"ingrese segundo número:\"))"
      ],
      "metadata": {
        "colab": {
          "base_uri": "https://localhost:8080/"
        },
        "id": "biMbzhkDl2Ws",
        "outputId": "ba0894e7-0a61-4710-c310-1a293adef836"
      },
      "execution_count": 7,
      "outputs": [
        {
          "name": "stdout",
          "output_type": "stream",
          "text": [
            "ingrese segundo número:3\n"
          ]
        }
      ]
    },
    {
      "cell_type": "code",
      "source": [
        "total = numero1 + numero2\n",
        "print(total)"
      ],
      "metadata": {
        "colab": {
          "base_uri": "https://localhost:8080/"
        },
        "id": "EaooJYpEuWgK",
        "outputId": "87f4af4f-6c23-468b-c8b3-3b005ea7f862"
      },
      "execution_count": 8,
      "outputs": [
        {
          "output_type": "stream",
          "name": "stdout",
          "text": [
            "8\n"
          ]
        }
      ]
    },
    {
      "cell_type": "code",
      "source": [
        "numero3 =float(input(\"ingrese tercer número:\"))"
      ],
      "metadata": {
        "colab": {
          "base_uri": "https://localhost:8080/"
        },
        "id": "2eqHqVZowo5c",
        "outputId": "e229ea6a-3fe1-45b8-c80c-efa8782175a3"
      },
      "execution_count": 10,
      "outputs": [
        {
          "name": "stdout",
          "output_type": "stream",
          "text": [
            "ingrese tercer número:3.1416\n"
          ]
        }
      ]
    },
    {
      "cell_type": "code",
      "source": [
        "total = numero1 + numero3\n",
        "print(total)"
      ],
      "metadata": {
        "colab": {
          "base_uri": "https://localhost:8080/"
        },
        "id": "QQDD02ZLw3PE",
        "outputId": "5124f482-2f52-424c-cd86-b70b7dbb39fe"
      },
      "execution_count": 11,
      "outputs": [
        {
          "output_type": "stream",
          "name": "stdout",
          "text": [
            "8.1416\n"
          ]
        }
      ]
    }
  ]
}